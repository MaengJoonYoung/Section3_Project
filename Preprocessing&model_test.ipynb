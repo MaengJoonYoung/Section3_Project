{
  "nbformat": 4,
  "nbformat_minor": 0,
  "metadata": {
    "colab": {
      "name": "Preprocessing&model_test.ipynb",
      "provenance": [],
      "collapsed_sections": [],
      "authorship_tag": "ABX9TyO01LqIQp0woAUzZUqeR7To",
      "include_colab_link": true
    },
    "kernelspec": {
      "name": "python3",
      "display_name": "Python 3"
    },
    "language_info": {
      "name": "python"
    }
  },
  "cells": [
    {
      "cell_type": "markdown",
      "metadata": {
        "id": "view-in-github",
        "colab_type": "text"
      },
      "source": [
        "<a href=\"https://colab.research.google.com/github/maengg/Section3_Project/blob/main/Preprocessing%26model_test.ipynb\" target=\"_parent\"><img src=\"https://colab.research.google.com/assets/colab-badge.svg\" alt=\"Open In Colab\"/></a>"
      ]
    },
    {
      "cell_type": "code",
      "source": [
        "%%capture\n",
        "import sys\n",
        "\n",
        "if 'google.colab' in sys.modules:\n",
        "    # Install packages in Colab\n",
        "    !pip install category_encoders==2.*\n",
        "    !pip install pandas-profiling==2.*"
      ],
      "metadata": {
        "id": "JO5S-AEoN2Yg"
      },
      "execution_count": 1,
      "outputs": []
    },
    {
      "cell_type": "code",
      "source": [
        "# 한글 포트 오류\n",
        "!sudo apt-get install -y fonts-nanum\n",
        "!sudo fc-cache -fv\n",
        "!rm ~/.cache/matplotlib -rf"
      ],
      "metadata": {
        "id": "9QbJ0-XiS9_Y",
        "outputId": "16003463-d86b-4786-9c59-fe5d26a05bd2",
        "colab": {
          "base_uri": "https://localhost:8080/"
        }
      },
      "execution_count": 2,
      "outputs": [
        {
          "output_type": "stream",
          "name": "stdout",
          "text": [
            "Reading package lists... Done\n",
            "Building dependency tree       \n",
            "Reading state information... Done\n",
            "The following NEW packages will be installed:\n",
            "  fonts-nanum\n",
            "0 upgraded, 1 newly installed, 0 to remove and 39 not upgraded.\n",
            "Need to get 9,604 kB of archives.\n",
            "After this operation, 29.5 MB of additional disk space will be used.\n",
            "Get:1 http://archive.ubuntu.com/ubuntu bionic/universe amd64 fonts-nanum all 20170925-1 [9,604 kB]\n",
            "Fetched 9,604 kB in 0s (22.7 MB/s)\n",
            "debconf: unable to initialize frontend: Dialog\n",
            "debconf: (No usable dialog-like program is installed, so the dialog based frontend cannot be used. at /usr/share/perl5/Debconf/FrontEnd/Dialog.pm line 76, <> line 1.)\n",
            "debconf: falling back to frontend: Readline\n",
            "debconf: unable to initialize frontend: Readline\n",
            "debconf: (This frontend requires a controlling tty.)\n",
            "debconf: falling back to frontend: Teletype\n",
            "dpkg-preconfigure: unable to re-open stdin: \n",
            "Selecting previously unselected package fonts-nanum.\n",
            "(Reading database ... 156210 files and directories currently installed.)\n",
            "Preparing to unpack .../fonts-nanum_20170925-1_all.deb ...\n",
            "Unpacking fonts-nanum (20170925-1) ...\n",
            "Setting up fonts-nanum (20170925-1) ...\n",
            "Processing triggers for fontconfig (2.12.6-0ubuntu2) ...\n",
            "/usr/share/fonts: caching, new cache contents: 0 fonts, 1 dirs\n",
            "/usr/share/fonts/truetype: caching, new cache contents: 0 fonts, 3 dirs\n",
            "/usr/share/fonts/truetype/humor-sans: caching, new cache contents: 1 fonts, 0 dirs\n",
            "/usr/share/fonts/truetype/liberation: caching, new cache contents: 16 fonts, 0 dirs\n",
            "/usr/share/fonts/truetype/nanum: caching, new cache contents: 10 fonts, 0 dirs\n",
            "/usr/local/share/fonts: caching, new cache contents: 0 fonts, 0 dirs\n",
            "/root/.local/share/fonts: skipping, no such directory\n",
            "/root/.fonts: skipping, no such directory\n",
            "/var/cache/fontconfig: cleaning cache directory\n",
            "/root/.cache/fontconfig: not cleaning non-existent cache directory\n",
            "/root/.fontconfig: not cleaning non-existent cache directory\n",
            "fc-cache: succeeded\n"
          ]
        }
      ]
    },
    {
      "cell_type": "code",
      "source": [
        "# matplotlib 설정\n",
        "import matplotlib.pyplot as plt\n",
        "import matplotlib as mpl\n",
        "%config InlineBackend.figure_format='retina'\n",
        "\n",
        "plt.rc('font', family='NanumBarunGothic') \n",
        "mpl.rc('axes', unicode_minus=False)"
      ],
      "metadata": {
        "id": "lcEeILvKTBCI"
      },
      "execution_count": 3,
      "outputs": []
    },
    {
      "cell_type": "code",
      "execution_count": 4,
      "metadata": {
        "id": "JKfJsr_F1kKO"
      },
      "outputs": [],
      "source": [
        "import pandas as pd\n",
        "import sqlite3\n",
        "import pandas_profiling\n",
        "import seaborn as sns"
      ]
    },
    {
      "cell_type": "code",
      "source": [
        "# 데이터 upload\n",
        "from google.colab import files\n",
        "upload = files.upload()"
      ],
      "metadata": {
        "colab": {
          "resources": {
            "http://localhost:8080/nbextensions/google.colab/files.js": {
              "data": "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",
              "ok": true,
              "headers": [
                [
                  "content-type",
                  "application/javascript"
                ]
              ],
              "status": 200,
              "status_text": ""
            }
          },
          "base_uri": "https://localhost:8080/",
          "height": 74
        },
        "id": "9lK2bcmf1yYP",
        "outputId": "76a0bdec-d1e1-419d-c01b-f7a75cf940c0"
      },
      "execution_count": 8,
      "outputs": [
        {
          "output_type": "display_data",
          "data": {
            "text/plain": [
              "<IPython.core.display.HTML object>"
            ],
            "text/html": [
              "\n",
              "     <input type=\"file\" id=\"files-42fd19b1-2bf6-406d-bddd-3bb7a8b41bd9\" name=\"files[]\" multiple disabled\n",
              "        style=\"border:none\" />\n",
              "     <output id=\"result-42fd19b1-2bf6-406d-bddd-3bb7a8b41bd9\">\n",
              "      Upload widget is only available when the cell has been executed in the\n",
              "      current browser session. Please rerun this cell to enable.\n",
              "      </output>\n",
              "      <script src=\"/nbextensions/google.colab/files.js\"></script> "
            ]
          },
          "metadata": {}
        },
        {
          "output_type": "stream",
          "name": "stdout",
          "text": [
            "Saving used_bicycle.db to used_bicycle (1).db\n"
          ]
        }
      ]
    },
    {
      "cell_type": "code",
      "source": [
        "# 데이터 베이스 연결\n",
        "conn = sqlite3.connect('used_bicycle (1).db')"
      ],
      "metadata": {
        "id": "cAwaiaXU7sE-"
      },
      "execution_count": 10,
      "outputs": []
    },
    {
      "cell_type": "code",
      "source": [
        "# DB 내 데이터 데이터 프레임으로 불러오기\n",
        "df = pd.read_sql_query(\"SELECT * FROM bicycle\", conn)\n",
        "df"
      ],
      "metadata": {
        "colab": {
          "base_uri": "https://localhost:8080/",
          "height": 423
        },
        "id": "WiBddVJj8BCW",
        "outputId": "45f3d644-b39c-40ad-b8b3-b4a9e9bdc952"
      },
      "execution_count": 11,
      "outputs": [
        {
          "output_type": "execute_result",
          "data": {
            "text/plain": [
              "        Id     brand       price   old     brake           drivetrain material\n",
              "0        1     자이언트   3,900,000원  2021  디스크 브레이크      SHIMANO ULTEGRA       카본\n",
              "1        2  스페셜라이즈드   6,900,000원  2021  디스크 브레이크  SRAM Force eTap AXS       카본\n",
              "2        3       첼로     250,000원  2014    림 브레이크         SHIMANO SORA     알루미늄\n",
              "3        4     자이언트     600,000원  2021    림 브레이크       SHIMANO CLARIS     알루미늄\n",
              "4        5     자이언트     600,000원  2021    림 브레이크       SHIMANO CLARIS     알루미늄\n",
              "...    ...       ...         ...   ...       ...                  ...      ...\n",
              "1687  1688      포커스   2,524,500원  2018    림 브레이크      SHIMANO ULTEGRA       카본\n",
              "1688  1689      메리다     814,000원  2016    림 브레이크          SHIMANO 105       카본\n",
              "1689  1690      인피자     600,000원  2015    림 브레이크      SHIMANO ULTEGRA       카본\n",
              "1690  1691       첼로   1,050,000원  2018    림 브레이크      SHIMANO ULTEGRA       카본\n",
              "1691  1692      윌리어     850,000원  2015    림 브레이크          SHIMANO 105       카본\n",
              "\n",
              "[1692 rows x 7 columns]"
            ],
            "text/html": [
              "\n",
              "  <div id=\"df-0e6b4f4e-80f3-43c3-a6ee-ac7c834556af\">\n",
              "    <div class=\"colab-df-container\">\n",
              "      <div>\n",
              "<style scoped>\n",
              "    .dataframe tbody tr th:only-of-type {\n",
              "        vertical-align: middle;\n",
              "    }\n",
              "\n",
              "    .dataframe tbody tr th {\n",
              "        vertical-align: top;\n",
              "    }\n",
              "\n",
              "    .dataframe thead th {\n",
              "        text-align: right;\n",
              "    }\n",
              "</style>\n",
              "<table border=\"1\" class=\"dataframe\">\n",
              "  <thead>\n",
              "    <tr style=\"text-align: right;\">\n",
              "      <th></th>\n",
              "      <th>Id</th>\n",
              "      <th>brand</th>\n",
              "      <th>price</th>\n",
              "      <th>old</th>\n",
              "      <th>brake</th>\n",
              "      <th>drivetrain</th>\n",
              "      <th>material</th>\n",
              "    </tr>\n",
              "  </thead>\n",
              "  <tbody>\n",
              "    <tr>\n",
              "      <th>0</th>\n",
              "      <td>1</td>\n",
              "      <td>자이언트</td>\n",
              "      <td>3,900,000원</td>\n",
              "      <td>2021</td>\n",
              "      <td>디스크 브레이크</td>\n",
              "      <td>SHIMANO ULTEGRA</td>\n",
              "      <td>카본</td>\n",
              "    </tr>\n",
              "    <tr>\n",
              "      <th>1</th>\n",
              "      <td>2</td>\n",
              "      <td>스페셜라이즈드</td>\n",
              "      <td>6,900,000원</td>\n",
              "      <td>2021</td>\n",
              "      <td>디스크 브레이크</td>\n",
              "      <td>SRAM Force eTap AXS</td>\n",
              "      <td>카본</td>\n",
              "    </tr>\n",
              "    <tr>\n",
              "      <th>2</th>\n",
              "      <td>3</td>\n",
              "      <td>첼로</td>\n",
              "      <td>250,000원</td>\n",
              "      <td>2014</td>\n",
              "      <td>림 브레이크</td>\n",
              "      <td>SHIMANO SORA</td>\n",
              "      <td>알루미늄</td>\n",
              "    </tr>\n",
              "    <tr>\n",
              "      <th>3</th>\n",
              "      <td>4</td>\n",
              "      <td>자이언트</td>\n",
              "      <td>600,000원</td>\n",
              "      <td>2021</td>\n",
              "      <td>림 브레이크</td>\n",
              "      <td>SHIMANO CLARIS</td>\n",
              "      <td>알루미늄</td>\n",
              "    </tr>\n",
              "    <tr>\n",
              "      <th>4</th>\n",
              "      <td>5</td>\n",
              "      <td>자이언트</td>\n",
              "      <td>600,000원</td>\n",
              "      <td>2021</td>\n",
              "      <td>림 브레이크</td>\n",
              "      <td>SHIMANO CLARIS</td>\n",
              "      <td>알루미늄</td>\n",
              "    </tr>\n",
              "    <tr>\n",
              "      <th>...</th>\n",
              "      <td>...</td>\n",
              "      <td>...</td>\n",
              "      <td>...</td>\n",
              "      <td>...</td>\n",
              "      <td>...</td>\n",
              "      <td>...</td>\n",
              "      <td>...</td>\n",
              "    </tr>\n",
              "    <tr>\n",
              "      <th>1687</th>\n",
              "      <td>1688</td>\n",
              "      <td>포커스</td>\n",
              "      <td>2,524,500원</td>\n",
              "      <td>2018</td>\n",
              "      <td>림 브레이크</td>\n",
              "      <td>SHIMANO ULTEGRA</td>\n",
              "      <td>카본</td>\n",
              "    </tr>\n",
              "    <tr>\n",
              "      <th>1688</th>\n",
              "      <td>1689</td>\n",
              "      <td>메리다</td>\n",
              "      <td>814,000원</td>\n",
              "      <td>2016</td>\n",
              "      <td>림 브레이크</td>\n",
              "      <td>SHIMANO 105</td>\n",
              "      <td>카본</td>\n",
              "    </tr>\n",
              "    <tr>\n",
              "      <th>1689</th>\n",
              "      <td>1690</td>\n",
              "      <td>인피자</td>\n",
              "      <td>600,000원</td>\n",
              "      <td>2015</td>\n",
              "      <td>림 브레이크</td>\n",
              "      <td>SHIMANO ULTEGRA</td>\n",
              "      <td>카본</td>\n",
              "    </tr>\n",
              "    <tr>\n",
              "      <th>1690</th>\n",
              "      <td>1691</td>\n",
              "      <td>첼로</td>\n",
              "      <td>1,050,000원</td>\n",
              "      <td>2018</td>\n",
              "      <td>림 브레이크</td>\n",
              "      <td>SHIMANO ULTEGRA</td>\n",
              "      <td>카본</td>\n",
              "    </tr>\n",
              "    <tr>\n",
              "      <th>1691</th>\n",
              "      <td>1692</td>\n",
              "      <td>윌리어</td>\n",
              "      <td>850,000원</td>\n",
              "      <td>2015</td>\n",
              "      <td>림 브레이크</td>\n",
              "      <td>SHIMANO 105</td>\n",
              "      <td>카본</td>\n",
              "    </tr>\n",
              "  </tbody>\n",
              "</table>\n",
              "<p>1692 rows × 7 columns</p>\n",
              "</div>\n",
              "      <button class=\"colab-df-convert\" onclick=\"convertToInteractive('df-0e6b4f4e-80f3-43c3-a6ee-ac7c834556af')\"\n",
              "              title=\"Convert this dataframe to an interactive table.\"\n",
              "              style=\"display:none;\">\n",
              "        \n",
              "  <svg xmlns=\"http://www.w3.org/2000/svg\" height=\"24px\"viewBox=\"0 0 24 24\"\n",
              "       width=\"24px\">\n",
              "    <path d=\"M0 0h24v24H0V0z\" fill=\"none\"/>\n",
              "    <path d=\"M18.56 5.44l.94 2.06.94-2.06 2.06-.94-2.06-.94-.94-2.06-.94 2.06-2.06.94zm-11 1L8.5 8.5l.94-2.06 2.06-.94-2.06-.94L8.5 2.5l-.94 2.06-2.06.94zm10 10l.94 2.06.94-2.06 2.06-.94-2.06-.94-.94-2.06-.94 2.06-2.06.94z\"/><path d=\"M17.41 7.96l-1.37-1.37c-.4-.4-.92-.59-1.43-.59-.52 0-1.04.2-1.43.59L10.3 9.45l-7.72 7.72c-.78.78-.78 2.05 0 2.83L4 21.41c.39.39.9.59 1.41.59.51 0 1.02-.2 1.41-.59l7.78-7.78 2.81-2.81c.8-.78.8-2.07 0-2.86zM5.41 20L4 18.59l7.72-7.72 1.47 1.35L5.41 20z\"/>\n",
              "  </svg>\n",
              "      </button>\n",
              "      \n",
              "  <style>\n",
              "    .colab-df-container {\n",
              "      display:flex;\n",
              "      flex-wrap:wrap;\n",
              "      gap: 12px;\n",
              "    }\n",
              "\n",
              "    .colab-df-convert {\n",
              "      background-color: #E8F0FE;\n",
              "      border: none;\n",
              "      border-radius: 50%;\n",
              "      cursor: pointer;\n",
              "      display: none;\n",
              "      fill: #1967D2;\n",
              "      height: 32px;\n",
              "      padding: 0 0 0 0;\n",
              "      width: 32px;\n",
              "    }\n",
              "\n",
              "    .colab-df-convert:hover {\n",
              "      background-color: #E2EBFA;\n",
              "      box-shadow: 0px 1px 2px rgba(60, 64, 67, 0.3), 0px 1px 3px 1px rgba(60, 64, 67, 0.15);\n",
              "      fill: #174EA6;\n",
              "    }\n",
              "\n",
              "    [theme=dark] .colab-df-convert {\n",
              "      background-color: #3B4455;\n",
              "      fill: #D2E3FC;\n",
              "    }\n",
              "\n",
              "    [theme=dark] .colab-df-convert:hover {\n",
              "      background-color: #434B5C;\n",
              "      box-shadow: 0px 1px 3px 1px rgba(0, 0, 0, 0.15);\n",
              "      filter: drop-shadow(0px 1px 2px rgba(0, 0, 0, 0.3));\n",
              "      fill: #FFFFFF;\n",
              "    }\n",
              "  </style>\n",
              "\n",
              "      <script>\n",
              "        const buttonEl =\n",
              "          document.querySelector('#df-0e6b4f4e-80f3-43c3-a6ee-ac7c834556af button.colab-df-convert');\n",
              "        buttonEl.style.display =\n",
              "          google.colab.kernel.accessAllowed ? 'block' : 'none';\n",
              "\n",
              "        async function convertToInteractive(key) {\n",
              "          const element = document.querySelector('#df-0e6b4f4e-80f3-43c3-a6ee-ac7c834556af');\n",
              "          const dataTable =\n",
              "            await google.colab.kernel.invokeFunction('convertToInteractive',\n",
              "                                                     [key], {});\n",
              "          if (!dataTable) return;\n",
              "\n",
              "          const docLinkHtml = 'Like what you see? Visit the ' +\n",
              "            '<a target=\"_blank\" href=https://colab.research.google.com/notebooks/data_table.ipynb>data table notebook</a>'\n",
              "            + ' to learn more about interactive tables.';\n",
              "          element.innerHTML = '';\n",
              "          dataTable['output_type'] = 'display_data';\n",
              "          await google.colab.output.renderOutput(dataTable, element);\n",
              "          const docLink = document.createElement('div');\n",
              "          docLink.innerHTML = docLinkHtml;\n",
              "          element.appendChild(docLink);\n",
              "        }\n",
              "      </script>\n",
              "    </div>\n",
              "  </div>\n",
              "  "
            ]
          },
          "metadata": {},
          "execution_count": 11
        }
      ]
    },
    {
      "cell_type": "code",
      "source": [
        "# copy 생성.\n",
        "df_new = df.copy()\n",
        "df_new"
      ],
      "metadata": {
        "colab": {
          "base_uri": "https://localhost:8080/",
          "height": 423
        },
        "id": "aliycFDhGFT9",
        "outputId": "b2caea1f-3617-459a-f18f-705a71f4cfcc"
      },
      "execution_count": 12,
      "outputs": [
        {
          "output_type": "execute_result",
          "data": {
            "text/plain": [
              "        Id     brand       price   old     brake           drivetrain material\n",
              "0        1     자이언트   3,900,000원  2021  디스크 브레이크      SHIMANO ULTEGRA       카본\n",
              "1        2  스페셜라이즈드   6,900,000원  2021  디스크 브레이크  SRAM Force eTap AXS       카본\n",
              "2        3       첼로     250,000원  2014    림 브레이크         SHIMANO SORA     알루미늄\n",
              "3        4     자이언트     600,000원  2021    림 브레이크       SHIMANO CLARIS     알루미늄\n",
              "4        5     자이언트     600,000원  2021    림 브레이크       SHIMANO CLARIS     알루미늄\n",
              "...    ...       ...         ...   ...       ...                  ...      ...\n",
              "1687  1688      포커스   2,524,500원  2018    림 브레이크      SHIMANO ULTEGRA       카본\n",
              "1688  1689      메리다     814,000원  2016    림 브레이크          SHIMANO 105       카본\n",
              "1689  1690      인피자     600,000원  2015    림 브레이크      SHIMANO ULTEGRA       카본\n",
              "1690  1691       첼로   1,050,000원  2018    림 브레이크      SHIMANO ULTEGRA       카본\n",
              "1691  1692      윌리어     850,000원  2015    림 브레이크          SHIMANO 105       카본\n",
              "\n",
              "[1692 rows x 7 columns]"
            ],
            "text/html": [
              "\n",
              "  <div id=\"df-c4a3e5f3-6300-4951-ab31-654baf9a435f\">\n",
              "    <div class=\"colab-df-container\">\n",
              "      <div>\n",
              "<style scoped>\n",
              "    .dataframe tbody tr th:only-of-type {\n",
              "        vertical-align: middle;\n",
              "    }\n",
              "\n",
              "    .dataframe tbody tr th {\n",
              "        vertical-align: top;\n",
              "    }\n",
              "\n",
              "    .dataframe thead th {\n",
              "        text-align: right;\n",
              "    }\n",
              "</style>\n",
              "<table border=\"1\" class=\"dataframe\">\n",
              "  <thead>\n",
              "    <tr style=\"text-align: right;\">\n",
              "      <th></th>\n",
              "      <th>Id</th>\n",
              "      <th>brand</th>\n",
              "      <th>price</th>\n",
              "      <th>old</th>\n",
              "      <th>brake</th>\n",
              "      <th>drivetrain</th>\n",
              "      <th>material</th>\n",
              "    </tr>\n",
              "  </thead>\n",
              "  <tbody>\n",
              "    <tr>\n",
              "      <th>0</th>\n",
              "      <td>1</td>\n",
              "      <td>자이언트</td>\n",
              "      <td>3,900,000원</td>\n",
              "      <td>2021</td>\n",
              "      <td>디스크 브레이크</td>\n",
              "      <td>SHIMANO ULTEGRA</td>\n",
              "      <td>카본</td>\n",
              "    </tr>\n",
              "    <tr>\n",
              "      <th>1</th>\n",
              "      <td>2</td>\n",
              "      <td>스페셜라이즈드</td>\n",
              "      <td>6,900,000원</td>\n",
              "      <td>2021</td>\n",
              "      <td>디스크 브레이크</td>\n",
              "      <td>SRAM Force eTap AXS</td>\n",
              "      <td>카본</td>\n",
              "    </tr>\n",
              "    <tr>\n",
              "      <th>2</th>\n",
              "      <td>3</td>\n",
              "      <td>첼로</td>\n",
              "      <td>250,000원</td>\n",
              "      <td>2014</td>\n",
              "      <td>림 브레이크</td>\n",
              "      <td>SHIMANO SORA</td>\n",
              "      <td>알루미늄</td>\n",
              "    </tr>\n",
              "    <tr>\n",
              "      <th>3</th>\n",
              "      <td>4</td>\n",
              "      <td>자이언트</td>\n",
              "      <td>600,000원</td>\n",
              "      <td>2021</td>\n",
              "      <td>림 브레이크</td>\n",
              "      <td>SHIMANO CLARIS</td>\n",
              "      <td>알루미늄</td>\n",
              "    </tr>\n",
              "    <tr>\n",
              "      <th>4</th>\n",
              "      <td>5</td>\n",
              "      <td>자이언트</td>\n",
              "      <td>600,000원</td>\n",
              "      <td>2021</td>\n",
              "      <td>림 브레이크</td>\n",
              "      <td>SHIMANO CLARIS</td>\n",
              "      <td>알루미늄</td>\n",
              "    </tr>\n",
              "    <tr>\n",
              "      <th>...</th>\n",
              "      <td>...</td>\n",
              "      <td>...</td>\n",
              "      <td>...</td>\n",
              "      <td>...</td>\n",
              "      <td>...</td>\n",
              "      <td>...</td>\n",
              "      <td>...</td>\n",
              "    </tr>\n",
              "    <tr>\n",
              "      <th>1687</th>\n",
              "      <td>1688</td>\n",
              "      <td>포커스</td>\n",
              "      <td>2,524,500원</td>\n",
              "      <td>2018</td>\n",
              "      <td>림 브레이크</td>\n",
              "      <td>SHIMANO ULTEGRA</td>\n",
              "      <td>카본</td>\n",
              "    </tr>\n",
              "    <tr>\n",
              "      <th>1688</th>\n",
              "      <td>1689</td>\n",
              "      <td>메리다</td>\n",
              "      <td>814,000원</td>\n",
              "      <td>2016</td>\n",
              "      <td>림 브레이크</td>\n",
              "      <td>SHIMANO 105</td>\n",
              "      <td>카본</td>\n",
              "    </tr>\n",
              "    <tr>\n",
              "      <th>1689</th>\n",
              "      <td>1690</td>\n",
              "      <td>인피자</td>\n",
              "      <td>600,000원</td>\n",
              "      <td>2015</td>\n",
              "      <td>림 브레이크</td>\n",
              "      <td>SHIMANO ULTEGRA</td>\n",
              "      <td>카본</td>\n",
              "    </tr>\n",
              "    <tr>\n",
              "      <th>1690</th>\n",
              "      <td>1691</td>\n",
              "      <td>첼로</td>\n",
              "      <td>1,050,000원</td>\n",
              "      <td>2018</td>\n",
              "      <td>림 브레이크</td>\n",
              "      <td>SHIMANO ULTEGRA</td>\n",
              "      <td>카본</td>\n",
              "    </tr>\n",
              "    <tr>\n",
              "      <th>1691</th>\n",
              "      <td>1692</td>\n",
              "      <td>윌리어</td>\n",
              "      <td>850,000원</td>\n",
              "      <td>2015</td>\n",
              "      <td>림 브레이크</td>\n",
              "      <td>SHIMANO 105</td>\n",
              "      <td>카본</td>\n",
              "    </tr>\n",
              "  </tbody>\n",
              "</table>\n",
              "<p>1692 rows × 7 columns</p>\n",
              "</div>\n",
              "      <button class=\"colab-df-convert\" onclick=\"convertToInteractive('df-c4a3e5f3-6300-4951-ab31-654baf9a435f')\"\n",
              "              title=\"Convert this dataframe to an interactive table.\"\n",
              "              style=\"display:none;\">\n",
              "        \n",
              "  <svg xmlns=\"http://www.w3.org/2000/svg\" height=\"24px\"viewBox=\"0 0 24 24\"\n",
              "       width=\"24px\">\n",
              "    <path d=\"M0 0h24v24H0V0z\" fill=\"none\"/>\n",
              "    <path d=\"M18.56 5.44l.94 2.06.94-2.06 2.06-.94-2.06-.94-.94-2.06-.94 2.06-2.06.94zm-11 1L8.5 8.5l.94-2.06 2.06-.94-2.06-.94L8.5 2.5l-.94 2.06-2.06.94zm10 10l.94 2.06.94-2.06 2.06-.94-2.06-.94-.94-2.06-.94 2.06-2.06.94z\"/><path d=\"M17.41 7.96l-1.37-1.37c-.4-.4-.92-.59-1.43-.59-.52 0-1.04.2-1.43.59L10.3 9.45l-7.72 7.72c-.78.78-.78 2.05 0 2.83L4 21.41c.39.39.9.59 1.41.59.51 0 1.02-.2 1.41-.59l7.78-7.78 2.81-2.81c.8-.78.8-2.07 0-2.86zM5.41 20L4 18.59l7.72-7.72 1.47 1.35L5.41 20z\"/>\n",
              "  </svg>\n",
              "      </button>\n",
              "      \n",
              "  <style>\n",
              "    .colab-df-container {\n",
              "      display:flex;\n",
              "      flex-wrap:wrap;\n",
              "      gap: 12px;\n",
              "    }\n",
              "\n",
              "    .colab-df-convert {\n",
              "      background-color: #E8F0FE;\n",
              "      border: none;\n",
              "      border-radius: 50%;\n",
              "      cursor: pointer;\n",
              "      display: none;\n",
              "      fill: #1967D2;\n",
              "      height: 32px;\n",
              "      padding: 0 0 0 0;\n",
              "      width: 32px;\n",
              "    }\n",
              "\n",
              "    .colab-df-convert:hover {\n",
              "      background-color: #E2EBFA;\n",
              "      box-shadow: 0px 1px 2px rgba(60, 64, 67, 0.3), 0px 1px 3px 1px rgba(60, 64, 67, 0.15);\n",
              "      fill: #174EA6;\n",
              "    }\n",
              "\n",
              "    [theme=dark] .colab-df-convert {\n",
              "      background-color: #3B4455;\n",
              "      fill: #D2E3FC;\n",
              "    }\n",
              "\n",
              "    [theme=dark] .colab-df-convert:hover {\n",
              "      background-color: #434B5C;\n",
              "      box-shadow: 0px 1px 3px 1px rgba(0, 0, 0, 0.15);\n",
              "      filter: drop-shadow(0px 1px 2px rgba(0, 0, 0, 0.3));\n",
              "      fill: #FFFFFF;\n",
              "    }\n",
              "  </style>\n",
              "\n",
              "      <script>\n",
              "        const buttonEl =\n",
              "          document.querySelector('#df-c4a3e5f3-6300-4951-ab31-654baf9a435f button.colab-df-convert');\n",
              "        buttonEl.style.display =\n",
              "          google.colab.kernel.accessAllowed ? 'block' : 'none';\n",
              "\n",
              "        async function convertToInteractive(key) {\n",
              "          const element = document.querySelector('#df-c4a3e5f3-6300-4951-ab31-654baf9a435f');\n",
              "          const dataTable =\n",
              "            await google.colab.kernel.invokeFunction('convertToInteractive',\n",
              "                                                     [key], {});\n",
              "          if (!dataTable) return;\n",
              "\n",
              "          const docLinkHtml = 'Like what you see? Visit the ' +\n",
              "            '<a target=\"_blank\" href=https://colab.research.google.com/notebooks/data_table.ipynb>data table notebook</a>'\n",
              "            + ' to learn more about interactive tables.';\n",
              "          element.innerHTML = '';\n",
              "          dataTable['output_type'] = 'display_data';\n",
              "          await google.colab.output.renderOutput(dataTable, element);\n",
              "          const docLink = document.createElement('div');\n",
              "          docLink.innerHTML = docLinkHtml;\n",
              "          element.appendChild(docLink);\n",
              "        }\n",
              "      </script>\n",
              "    </div>\n",
              "  </div>\n",
              "  "
            ]
          },
          "metadata": {},
          "execution_count": 12
        }
      ]
    },
    {
      "cell_type": "code",
      "source": [
        "# 필요없는 특성 제거\n",
        "df_new.drop(columns='Id', inplace=True)\n",
        "df_new.drop(1, inplace=True)\n",
        "df_new"
      ],
      "metadata": {
        "colab": {
          "base_uri": "https://localhost:8080/",
          "height": 423
        },
        "id": "cTEwc8Di9PUy",
        "outputId": "a6bbf6bc-3b55-4148-b785-88e047485c9b"
      },
      "execution_count": 13,
      "outputs": [
        {
          "output_type": "execute_result",
          "data": {
            "text/plain": [
              "      brand       price   old     brake            drivetrain material\n",
              "0     자이언트   3,900,000원  2021  디스크 브레이크       SHIMANO ULTEGRA       카본\n",
              "2       첼로     250,000원  2014    림 브레이크          SHIMANO SORA     알루미늄\n",
              "3     자이언트     600,000원  2021    림 브레이크        SHIMANO CLARIS     알루미늄\n",
              "4     자이언트     600,000원  2021    림 브레이크        SHIMANO CLARIS     알루미늄\n",
              "5      리들리   6,500,000원  2017    림 브레이크  SHIMANO DURA-ACE Di2       카본\n",
              "...     ...         ...   ...       ...                   ...      ...\n",
              "1687   포커스   2,524,500원  2018    림 브레이크       SHIMANO ULTEGRA       카본\n",
              "1688   메리다     814,000원  2016    림 브레이크           SHIMANO 105       카본\n",
              "1689   인피자     600,000원  2015    림 브레이크       SHIMANO ULTEGRA       카본\n",
              "1690    첼로   1,050,000원  2018    림 브레이크       SHIMANO ULTEGRA       카본\n",
              "1691   윌리어     850,000원  2015    림 브레이크           SHIMANO 105       카본\n",
              "\n",
              "[1691 rows x 6 columns]"
            ],
            "text/html": [
              "\n",
              "  <div id=\"df-7deb1a3a-6d57-4a5e-a909-b6f6f20fc61d\">\n",
              "    <div class=\"colab-df-container\">\n",
              "      <div>\n",
              "<style scoped>\n",
              "    .dataframe tbody tr th:only-of-type {\n",
              "        vertical-align: middle;\n",
              "    }\n",
              "\n",
              "    .dataframe tbody tr th {\n",
              "        vertical-align: top;\n",
              "    }\n",
              "\n",
              "    .dataframe thead th {\n",
              "        text-align: right;\n",
              "    }\n",
              "</style>\n",
              "<table border=\"1\" class=\"dataframe\">\n",
              "  <thead>\n",
              "    <tr style=\"text-align: right;\">\n",
              "      <th></th>\n",
              "      <th>brand</th>\n",
              "      <th>price</th>\n",
              "      <th>old</th>\n",
              "      <th>brake</th>\n",
              "      <th>drivetrain</th>\n",
              "      <th>material</th>\n",
              "    </tr>\n",
              "  </thead>\n",
              "  <tbody>\n",
              "    <tr>\n",
              "      <th>0</th>\n",
              "      <td>자이언트</td>\n",
              "      <td>3,900,000원</td>\n",
              "      <td>2021</td>\n",
              "      <td>디스크 브레이크</td>\n",
              "      <td>SHIMANO ULTEGRA</td>\n",
              "      <td>카본</td>\n",
              "    </tr>\n",
              "    <tr>\n",
              "      <th>2</th>\n",
              "      <td>첼로</td>\n",
              "      <td>250,000원</td>\n",
              "      <td>2014</td>\n",
              "      <td>림 브레이크</td>\n",
              "      <td>SHIMANO SORA</td>\n",
              "      <td>알루미늄</td>\n",
              "    </tr>\n",
              "    <tr>\n",
              "      <th>3</th>\n",
              "      <td>자이언트</td>\n",
              "      <td>600,000원</td>\n",
              "      <td>2021</td>\n",
              "      <td>림 브레이크</td>\n",
              "      <td>SHIMANO CLARIS</td>\n",
              "      <td>알루미늄</td>\n",
              "    </tr>\n",
              "    <tr>\n",
              "      <th>4</th>\n",
              "      <td>자이언트</td>\n",
              "      <td>600,000원</td>\n",
              "      <td>2021</td>\n",
              "      <td>림 브레이크</td>\n",
              "      <td>SHIMANO CLARIS</td>\n",
              "      <td>알루미늄</td>\n",
              "    </tr>\n",
              "    <tr>\n",
              "      <th>5</th>\n",
              "      <td>리들리</td>\n",
              "      <td>6,500,000원</td>\n",
              "      <td>2017</td>\n",
              "      <td>림 브레이크</td>\n",
              "      <td>SHIMANO DURA-ACE Di2</td>\n",
              "      <td>카본</td>\n",
              "    </tr>\n",
              "    <tr>\n",
              "      <th>...</th>\n",
              "      <td>...</td>\n",
              "      <td>...</td>\n",
              "      <td>...</td>\n",
              "      <td>...</td>\n",
              "      <td>...</td>\n",
              "      <td>...</td>\n",
              "    </tr>\n",
              "    <tr>\n",
              "      <th>1687</th>\n",
              "      <td>포커스</td>\n",
              "      <td>2,524,500원</td>\n",
              "      <td>2018</td>\n",
              "      <td>림 브레이크</td>\n",
              "      <td>SHIMANO ULTEGRA</td>\n",
              "      <td>카본</td>\n",
              "    </tr>\n",
              "    <tr>\n",
              "      <th>1688</th>\n",
              "      <td>메리다</td>\n",
              "      <td>814,000원</td>\n",
              "      <td>2016</td>\n",
              "      <td>림 브레이크</td>\n",
              "      <td>SHIMANO 105</td>\n",
              "      <td>카본</td>\n",
              "    </tr>\n",
              "    <tr>\n",
              "      <th>1689</th>\n",
              "      <td>인피자</td>\n",
              "      <td>600,000원</td>\n",
              "      <td>2015</td>\n",
              "      <td>림 브레이크</td>\n",
              "      <td>SHIMANO ULTEGRA</td>\n",
              "      <td>카본</td>\n",
              "    </tr>\n",
              "    <tr>\n",
              "      <th>1690</th>\n",
              "      <td>첼로</td>\n",
              "      <td>1,050,000원</td>\n",
              "      <td>2018</td>\n",
              "      <td>림 브레이크</td>\n",
              "      <td>SHIMANO ULTEGRA</td>\n",
              "      <td>카본</td>\n",
              "    </tr>\n",
              "    <tr>\n",
              "      <th>1691</th>\n",
              "      <td>윌리어</td>\n",
              "      <td>850,000원</td>\n",
              "      <td>2015</td>\n",
              "      <td>림 브레이크</td>\n",
              "      <td>SHIMANO 105</td>\n",
              "      <td>카본</td>\n",
              "    </tr>\n",
              "  </tbody>\n",
              "</table>\n",
              "<p>1691 rows × 6 columns</p>\n",
              "</div>\n",
              "      <button class=\"colab-df-convert\" onclick=\"convertToInteractive('df-7deb1a3a-6d57-4a5e-a909-b6f6f20fc61d')\"\n",
              "              title=\"Convert this dataframe to an interactive table.\"\n",
              "              style=\"display:none;\">\n",
              "        \n",
              "  <svg xmlns=\"http://www.w3.org/2000/svg\" height=\"24px\"viewBox=\"0 0 24 24\"\n",
              "       width=\"24px\">\n",
              "    <path d=\"M0 0h24v24H0V0z\" fill=\"none\"/>\n",
              "    <path d=\"M18.56 5.44l.94 2.06.94-2.06 2.06-.94-2.06-.94-.94-2.06-.94 2.06-2.06.94zm-11 1L8.5 8.5l.94-2.06 2.06-.94-2.06-.94L8.5 2.5l-.94 2.06-2.06.94zm10 10l.94 2.06.94-2.06 2.06-.94-2.06-.94-.94-2.06-.94 2.06-2.06.94z\"/><path d=\"M17.41 7.96l-1.37-1.37c-.4-.4-.92-.59-1.43-.59-.52 0-1.04.2-1.43.59L10.3 9.45l-7.72 7.72c-.78.78-.78 2.05 0 2.83L4 21.41c.39.39.9.59 1.41.59.51 0 1.02-.2 1.41-.59l7.78-7.78 2.81-2.81c.8-.78.8-2.07 0-2.86zM5.41 20L4 18.59l7.72-7.72 1.47 1.35L5.41 20z\"/>\n",
              "  </svg>\n",
              "      </button>\n",
              "      \n",
              "  <style>\n",
              "    .colab-df-container {\n",
              "      display:flex;\n",
              "      flex-wrap:wrap;\n",
              "      gap: 12px;\n",
              "    }\n",
              "\n",
              "    .colab-df-convert {\n",
              "      background-color: #E8F0FE;\n",
              "      border: none;\n",
              "      border-radius: 50%;\n",
              "      cursor: pointer;\n",
              "      display: none;\n",
              "      fill: #1967D2;\n",
              "      height: 32px;\n",
              "      padding: 0 0 0 0;\n",
              "      width: 32px;\n",
              "    }\n",
              "\n",
              "    .colab-df-convert:hover {\n",
              "      background-color: #E2EBFA;\n",
              "      box-shadow: 0px 1px 2px rgba(60, 64, 67, 0.3), 0px 1px 3px 1px rgba(60, 64, 67, 0.15);\n",
              "      fill: #174EA6;\n",
              "    }\n",
              "\n",
              "    [theme=dark] .colab-df-convert {\n",
              "      background-color: #3B4455;\n",
              "      fill: #D2E3FC;\n",
              "    }\n",
              "\n",
              "    [theme=dark] .colab-df-convert:hover {\n",
              "      background-color: #434B5C;\n",
              "      box-shadow: 0px 1px 3px 1px rgba(0, 0, 0, 0.15);\n",
              "      filter: drop-shadow(0px 1px 2px rgba(0, 0, 0, 0.3));\n",
              "      fill: #FFFFFF;\n",
              "    }\n",
              "  </style>\n",
              "\n",
              "      <script>\n",
              "        const buttonEl =\n",
              "          document.querySelector('#df-7deb1a3a-6d57-4a5e-a909-b6f6f20fc61d button.colab-df-convert');\n",
              "        buttonEl.style.display =\n",
              "          google.colab.kernel.accessAllowed ? 'block' : 'none';\n",
              "\n",
              "        async function convertToInteractive(key) {\n",
              "          const element = document.querySelector('#df-7deb1a3a-6d57-4a5e-a909-b6f6f20fc61d');\n",
              "          const dataTable =\n",
              "            await google.colab.kernel.invokeFunction('convertToInteractive',\n",
              "                                                     [key], {});\n",
              "          if (!dataTable) return;\n",
              "\n",
              "          const docLinkHtml = 'Like what you see? Visit the ' +\n",
              "            '<a target=\"_blank\" href=https://colab.research.google.com/notebooks/data_table.ipynb>data table notebook</a>'\n",
              "            + ' to learn more about interactive tables.';\n",
              "          element.innerHTML = '';\n",
              "          dataTable['output_type'] = 'display_data';\n",
              "          await google.colab.output.renderOutput(dataTable, element);\n",
              "          const docLink = document.createElement('div');\n",
              "          docLink.innerHTML = docLinkHtml;\n",
              "          element.appendChild(docLink);\n",
              "        }\n",
              "      </script>\n",
              "    </div>\n",
              "  </div>\n",
              "  "
            ]
          },
          "metadata": {},
          "execution_count": 13
        }
      ]
    },
    {
      "cell_type": "code",
      "source": [
        "# 가격 특성 전처리\n",
        "df_new['price'] = df_new['price'].str.replace(',','')\n",
        "df_new['price'] = df_new['price'].str.replace('원','').astype(int)"
      ],
      "metadata": {
        "id": "kpY0whrzFCzJ"
      },
      "execution_count": 14,
      "outputs": []
    },
    {
      "cell_type": "code",
      "source": [
        "# 가격 이상치 확인\n",
        "sns.boxplot(df_new['price'])\n",
        "\n",
        "plt.show()"
      ],
      "metadata": {
        "id": "vFiIn8h1mjir",
        "outputId": "bf1c9bed-e055-4ac9-9c0d-8ffe650df7db",
        "colab": {
          "base_uri": "https://localhost:8080/",
          "height": 333
        }
      },
      "execution_count": 20,
      "outputs": [
        {
          "output_type": "stream",
          "name": "stderr",
          "text": [
            "/usr/local/lib/python3.7/dist-packages/seaborn/_decorators.py:43: FutureWarning: Pass the following variable as a keyword arg: x. From version 0.12, the only valid positional argument will be `data`, and passing other arguments without an explicit keyword will result in an error or misinterpretation.\n",
            "  FutureWarning\n"
          ]
        },
        {
          "output_type": "display_data",
          "data": {
            "text/plain": [
              "<Figure size 432x288 with 1 Axes>"
            ],
            "image/png": "[encoded data removed]"
          },
          "metadata": {
            "image/png": {
              "width": 352,
              "height": 261
            },
            "needs_background": "light"
          }
        }
      ]
    },
    {
      "cell_type": "code",
      "source": [
        "# 가격 특성 이상치 제거\n",
        "from scipy import stats\n",
        "import numpy as np\n",
        "\n",
        "z = stats.zscore(df_new['price'])\n",
        "condition = (np.abs(z) < 3)\n",
        "df_new = df_new[condition]\n",
        "\n",
        "print(len(df_new))"
      ],
      "metadata": {
        "colab": {
          "base_uri": "https://localhost:8080/"
        },
        "id": "IAhQBxI4N6BM",
        "outputId": "809df9ca-9cac-424a-a01a-791f74ecdc2d"
      },
      "execution_count": null,
      "outputs": [
        {
          "output_type": "stream",
          "name": "stdout",
          "text": [
            "1660\n"
          ]
        }
      ]
    },
    {
      "cell_type": "code",
      "source": [
        "# 10만원 이하의 자전거는 이상치로 판단\n",
        "mask = (df_new.price >= 100000)\n",
        "df_new = df_new[(mask)]\n",
        "print(len(df_new))"
      ],
      "metadata": {
        "colab": {
          "base_uri": "https://localhost:8080/"
        },
        "id": "6K1IuZoxKTJG",
        "outputId": "2dcf7975-4b0c-417e-aadc-00050fd11a61"
      },
      "execution_count": null,
      "outputs": [
        {
          "output_type": "stream",
          "name": "stdout",
          "text": [
            "1643\n"
          ]
        }
      ]
    },
    {
      "cell_type": "code",
      "source": [
        "# 연식 이상치 확인\n",
        "sns.boxplot(df_new['old'])\n",
        "\n",
        "plt.show()"
      ],
      "metadata": {
        "id": "AvJ2z2J6nEk6",
        "outputId": "f0aaa873-e63c-46f3-af61-422a0f5d73a3",
        "colab": {
          "base_uri": "https://localhost:8080/",
          "height": 333
        }
      },
      "execution_count": 21,
      "outputs": [
        {
          "output_type": "stream",
          "name": "stderr",
          "text": [
            "/usr/local/lib/python3.7/dist-packages/seaborn/_decorators.py:43: FutureWarning: Pass the following variable as a keyword arg: x. From version 0.12, the only valid positional argument will be `data`, and passing other arguments without an explicit keyword will result in an error or misinterpretation.\n",
            "  FutureWarning\n"
          ]
        },
        {
          "output_type": "display_data",
          "data": {
            "text/plain": [
              "<Figure size 432x288 with 1 Axes>"
            ],
            "image/png": "[encoded data removed]"
          },
          "metadata": {
            "image/png": {
              "width": 352,
              "height": 261
            },
            "needs_background": "light"
          }
        }
      ]
    },
    {
      "cell_type": "code",
      "source": [
        "# 연식 특성 이상치 제거\n",
        "year_mask = ((df_new.old >= 2010) & (df_new.old <= 2021))\n",
        "df_new = df_new[year_mask]\n",
        "df_new['old'].min()"
      ],
      "metadata": {
        "colab": {
          "base_uri": "https://localhost:8080/"
        },
        "id": "WQEYK5Y-Hmql",
        "outputId": "35ed0c98-a783-45ac-c80b-c71b3e4d47df"
      },
      "execution_count": null,
      "outputs": [
        {
          "output_type": "execute_result",
          "data": {
            "text/plain": [
              "2010"
            ]
          },
          "metadata": {},
          "execution_count": 87
        }
      ]
    },
    {
      "cell_type": "code",
      "source": [
        "df_new"
      ],
      "metadata": {
        "colab": {
          "base_uri": "https://localhost:8080/",
          "height": 424
        },
        "id": "huoNgB3PH1wf",
        "outputId": "a92d4e2f-3b14-4dec-959a-26d69221f601"
      },
      "execution_count": null,
      "outputs": [
        {
          "output_type": "execute_result",
          "data": {
            "text/html": [
              "<div>\n",
              "<style scoped>\n",
              "    .dataframe tbody tr th:only-of-type {\n",
              "        vertical-align: middle;\n",
              "    }\n",
              "\n",
              "    .dataframe tbody tr th {\n",
              "        vertical-align: top;\n",
              "    }\n",
              "\n",
              "    .dataframe thead th {\n",
              "        text-align: right;\n",
              "    }\n",
              "</style>\n",
              "<table border=\"1\" class=\"dataframe\">\n",
              "  <thead>\n",
              "    <tr style=\"text-align: right;\">\n",
              "      <th></th>\n",
              "      <th>brand</th>\n",
              "      <th>price</th>\n",
              "      <th>old</th>\n",
              "      <th>brake</th>\n",
              "      <th>drivetrain</th>\n",
              "      <th>material</th>\n",
              "    </tr>\n",
              "  </thead>\n",
              "  <tbody>\n",
              "    <tr>\n",
              "      <th>0</th>\n",
              "      <td>자이언트</td>\n",
              "      <td>3900000</td>\n",
              "      <td>2021</td>\n",
              "      <td>디스크 브레이크</td>\n",
              "      <td>SHIMANO ULTEGRA</td>\n",
              "      <td>카본</td>\n",
              "    </tr>\n",
              "    <tr>\n",
              "      <th>2</th>\n",
              "      <td>첼로</td>\n",
              "      <td>250000</td>\n",
              "      <td>2014</td>\n",
              "      <td>림 브레이크</td>\n",
              "      <td>SHIMANO SORA</td>\n",
              "      <td>알루미늄</td>\n",
              "    </tr>\n",
              "    <tr>\n",
              "      <th>3</th>\n",
              "      <td>자이언트</td>\n",
              "      <td>600000</td>\n",
              "      <td>2021</td>\n",
              "      <td>림 브레이크</td>\n",
              "      <td>SHIMANO CLARIS</td>\n",
              "      <td>알루미늄</td>\n",
              "    </tr>\n",
              "    <tr>\n",
              "      <th>4</th>\n",
              "      <td>자이언트</td>\n",
              "      <td>600000</td>\n",
              "      <td>2021</td>\n",
              "      <td>림 브레이크</td>\n",
              "      <td>SHIMANO CLARIS</td>\n",
              "      <td>알루미늄</td>\n",
              "    </tr>\n",
              "    <tr>\n",
              "      <th>5</th>\n",
              "      <td>리들리</td>\n",
              "      <td>6500000</td>\n",
              "      <td>2017</td>\n",
              "      <td>림 브레이크</td>\n",
              "      <td>SHIMANO DURA-ACE Di2</td>\n",
              "      <td>카본</td>\n",
              "    </tr>\n",
              "    <tr>\n",
              "      <th>...</th>\n",
              "      <td>...</td>\n",
              "      <td>...</td>\n",
              "      <td>...</td>\n",
              "      <td>...</td>\n",
              "      <td>...</td>\n",
              "      <td>...</td>\n",
              "    </tr>\n",
              "    <tr>\n",
              "      <th>1687</th>\n",
              "      <td>포커스</td>\n",
              "      <td>2524500</td>\n",
              "      <td>2018</td>\n",
              "      <td>림 브레이크</td>\n",
              "      <td>SHIMANO ULTEGRA</td>\n",
              "      <td>카본</td>\n",
              "    </tr>\n",
              "    <tr>\n",
              "      <th>1688</th>\n",
              "      <td>메리다</td>\n",
              "      <td>814000</td>\n",
              "      <td>2016</td>\n",
              "      <td>림 브레이크</td>\n",
              "      <td>SHIMANO 105</td>\n",
              "      <td>카본</td>\n",
              "    </tr>\n",
              "    <tr>\n",
              "      <th>1689</th>\n",
              "      <td>인피자</td>\n",
              "      <td>600000</td>\n",
              "      <td>2015</td>\n",
              "      <td>림 브레이크</td>\n",
              "      <td>SHIMANO ULTEGRA</td>\n",
              "      <td>카본</td>\n",
              "    </tr>\n",
              "    <tr>\n",
              "      <th>1690</th>\n",
              "      <td>첼로</td>\n",
              "      <td>1050000</td>\n",
              "      <td>2018</td>\n",
              "      <td>림 브레이크</td>\n",
              "      <td>SHIMANO ULTEGRA</td>\n",
              "      <td>카본</td>\n",
              "    </tr>\n",
              "    <tr>\n",
              "      <th>1691</th>\n",
              "      <td>윌리어</td>\n",
              "      <td>850000</td>\n",
              "      <td>2015</td>\n",
              "      <td>림 브레이크</td>\n",
              "      <td>SHIMANO 105</td>\n",
              "      <td>카본</td>\n",
              "    </tr>\n",
              "  </tbody>\n",
              "</table>\n",
              "<p>1586 rows × 6 columns</p>\n",
              "</div>"
            ],
            "text/plain": [
              "      brand    price   old     brake            drivetrain material\n",
              "0     자이언트   3900000  2021  디스크 브레이크       SHIMANO ULTEGRA       카본\n",
              "2       첼로    250000  2014    림 브레이크          SHIMANO SORA     알루미늄\n",
              "3     자이언트    600000  2021    림 브레이크        SHIMANO CLARIS     알루미늄\n",
              "4     자이언트    600000  2021    림 브레이크        SHIMANO CLARIS     알루미늄\n",
              "5      리들리   6500000  2017    림 브레이크  SHIMANO DURA-ACE Di2       카본\n",
              "...     ...      ...   ...       ...                   ...      ...\n",
              "1687   포커스   2524500  2018    림 브레이크       SHIMANO ULTEGRA       카본\n",
              "1688   메리다    814000  2016    림 브레이크           SHIMANO 105       카본\n",
              "1689   인피자    600000  2015    림 브레이크       SHIMANO ULTEGRA       카본\n",
              "1690    첼로   1050000  2018    림 브레이크       SHIMANO ULTEGRA       카본\n",
              "1691   윌리어    850000  2015    림 브레이크           SHIMANO 105       카본\n",
              "\n",
              "[1586 rows x 6 columns]"
            ]
          },
          "metadata": {},
          "execution_count": 66
        }
      ]
    },
    {
      "cell_type": "code",
      "source": [
        "# 브랜드 비중 파악.\n",
        "plt.figure(figsize = (20,10))\n",
        "ax = df_new['brand'].value_counts().plot.bar()\n",
        "for p in ax.patches:\n",
        "  left, bottom, width, height = p.get_bbox().bounds\n",
        "  ax.annotate(height, (left+width/2, height*1.01), ha='center')\n",
        "plt.show()"
      ],
      "metadata": {
        "colab": {
          "base_uri": "https://localhost:8080/",
          "height": 646
        },
        "id": "fRb2UCidQ71Q",
        "outputId": "41f542ef-75a3-4bfa-8820-a634c43e4eeb"
      },
      "execution_count": null,
      "outputs": [
        {
          "output_type": "display_data",
          "data": {
            "image/png": "[encoded data removed]",
            "text/plain": [
              "<Figure size 1440x720 with 1 Axes>"
            ]
          },
          "metadata": {
            "image/png": {
              "width": 1154,
              "height": 629
            },
            "needs_background": "light"
          }
        }
      ]
    },
    {
      "cell_type": "code",
      "source": [
        "# 웹 서비스 사용자의 편이를 위해 10개 이하의 브랜드는 기타로 변경. (너무 많은 선택지는 가독성이 떨어진다고 판단.)\n",
        "brand_list = df_new['brand'].value_counts()\n",
        "condition_brand = (df_new['brand'].value_counts() < 10)\n",
        "for etc in brand_list[condition_brand].to_dict().keys():\n",
        "   df_new['brand'] = df_new['brand'].str.replace(etc,'기타 ')\n",
        "\n",
        "df_new['brand'].value_counts()"
      ],
      "metadata": {
        "colab": {
          "base_uri": "https://localhost:8080/"
        },
        "id": "EGkNWf0FWLPx",
        "outputId": "e8960966-f08f-4553-c803-6e2845130e00"
      },
      "execution_count": null,
      "outputs": [
        {
          "output_type": "execute_result",
          "data": {
            "text/plain": [
              "스페셜라이즈드     236\n",
              "기타          218\n",
              "트렉          203\n",
              "자이언트        174\n",
              "메리다         155\n",
              "캐논데일         70\n",
              "서벨로          55\n",
              "첼로           54\n",
              "비앙키          53\n",
              "비엠씨          50\n",
              "트리곤          33\n",
              "스캇           31\n",
              "포커스          30\n",
              "엘파마          29\n",
              "리들리          26\n",
              "콜나고          22\n",
              "피나렐로         22\n",
              "룩            19\n",
              "위아위스         16\n",
              "코메트          15\n",
              "리브           14\n",
              "라피에르         14\n",
              "큐브           13\n",
              "아르곤18        12\n",
              "윌리어          11\n",
              "캐니언          11\n",
              "Name: brand, dtype: int64"
            ]
          },
          "metadata": {},
          "execution_count": 67
        }
      ]
    },
    {
      "cell_type": "code",
      "source": [
        "# 구동계 비중 파악.\n",
        "plt.figure(figsize = (20,10))\n",
        "ax = df_new['drivetrain'].value_counts().plot.bar()\n",
        "for p in ax.patches:\n",
        "  left, bottom, width, height = p.get_bbox().bounds\n",
        "  ax.annotate(height, (left+width/2, height*1.01), ha='center')\n",
        "plt.show()"
      ],
      "metadata": {
        "colab": {
          "base_uri": "https://localhost:8080/",
          "height": 745
        },
        "id": "BTcbio2VbaTP",
        "outputId": "4d456c32-61d0-40b5-cfd8-0a9898c9261c"
      },
      "execution_count": null,
      "outputs": [
        {
          "output_type": "display_data",
          "data": {
            "image/png": "[encoded data removed]",
            "text/plain": [
              "<Figure size 1440x720 with 1 Axes>"
            ]
          },
          "metadata": {
            "image/png": {
              "width": 1154,
              "height": 728
            },
            "needs_background": "light"
          }
        }
      ]
    },
    {
      "cell_type": "code",
      "source": [
        "# 공백 처리\n",
        "df_new['drivetrain'] = df_new['drivetrain'].str.replace(' Di2', '')"
      ],
      "metadata": {
        "id": "L3jak-QLAvMT"
      },
      "execution_count": null,
      "outputs": []
    },
    {
      "cell_type": "code",
      "source": [
        "# 웹 서비스 사용자의 편이를 위해 10개 이하의 구동계는 기타로 변경. (너무 많은 선택지는 가독성이 떨어진다고 판단.)\n",
        "drivetrain_list = df_new['drivetrain'].value_counts()\n",
        "condition_drivetrain = (df_new['drivetrain'].value_counts() < 10)\n",
        "for etc in drivetrain_list[condition_drivetrain].to_dict().keys():\n",
        "   df_new['drivetrain'] = df_new['drivetrain'].str.replace(etc,'기타')"
      ],
      "metadata": {
        "id": "r-So5dYFdja_"
      },
      "execution_count": null,
      "outputs": []
    },
    {
      "cell_type": "code",
      "source": [
        "# 구동계 특성 데이터 전처리\n",
        "df_new['drivetrain'] = df_new['drivetrain'].str.replace('기타 eTap AXS', 'SRAM Rival eTap AXS')\n",
        "df_new['drivetrain'] = df_new['drivetrain'].str.replace('기타 EPS', '기타')\n",
        "df_new['drivetrain'] = df_new['drivetrain'].str.replace('기타 1', '기타')\n",
        "df_new['drivetrain'].value_counts()"
      ],
      "metadata": {
        "colab": {
          "base_uri": "https://localhost:8080/"
        },
        "id": "D8CQiu3HmxJD",
        "outputId": "59b205e6-3c04-44ed-c0fc-9d9fde6ecc81"
      },
      "execution_count": null,
      "outputs": [
        {
          "output_type": "execute_result",
          "data": {
            "text/plain": [
              "SHIMANO ULTEGRA        646\n",
              "SHIMANO 105            422\n",
              "SHIMANO DURA-ACE       180\n",
              "SRAM Force eTap AXS     72\n",
              "SHIMANO CLARIS          70\n",
              "기타                      67\n",
              "SHIMANO SORA            40\n",
              "SRAM RED eTap AXS       32\n",
              "SRAM RED eTAP           28\n",
              "SRAM RED                17\n",
              "SRAM Force              12\n",
              "Name: drivetrain, dtype: int64"
            ]
          },
          "metadata": {},
          "execution_count": 90
        }
      ]
    },
    {
      "cell_type": "code",
      "source": [
        "# 기타 처리후 중복 제거\n",
        "print('중복 제거 전: ', len(df_new))\n",
        "df_new.drop_duplicates(inplace = True)\n",
        "print('중복 제거 후: ', len(df_new))"
      ],
      "metadata": {
        "colab": {
          "base_uri": "https://localhost:8080/"
        },
        "id": "uk91-COWnLYY",
        "outputId": "eeed3c2e-7deb-446e-f2d4-470bbbd82154"
      },
      "execution_count": null,
      "outputs": [
        {
          "output_type": "stream",
          "name": "stdout",
          "text": [
            "중복 제거 전:  1586\n",
            "중복 제거 후:  1370\n"
          ]
        }
      ]
    },
    {
      "cell_type": "code",
      "source": [
        "df_new.reset_index(drop=True, inplace=True)\n",
        "df_new"
      ],
      "metadata": {
        "colab": {
          "base_uri": "https://localhost:8080/",
          "height": 424
        },
        "id": "saYrwNdjBJOn",
        "outputId": "1c02f87f-a282-4b3d-e9cb-77503bae0173"
      },
      "execution_count": null,
      "outputs": [
        {
          "output_type": "execute_result",
          "data": {
            "text/html": [
              "<div>\n",
              "<style scoped>\n",
              "    .dataframe tbody tr th:only-of-type {\n",
              "        vertical-align: middle;\n",
              "    }\n",
              "\n",
              "    .dataframe tbody tr th {\n",
              "        vertical-align: top;\n",
              "    }\n",
              "\n",
              "    .dataframe thead th {\n",
              "        text-align: right;\n",
              "    }\n",
              "</style>\n",
              "<table border=\"1\" class=\"dataframe\">\n",
              "  <thead>\n",
              "    <tr style=\"text-align: right;\">\n",
              "      <th></th>\n",
              "      <th>brand</th>\n",
              "      <th>price</th>\n",
              "      <th>old</th>\n",
              "      <th>brake</th>\n",
              "      <th>drivetrain</th>\n",
              "      <th>material</th>\n",
              "    </tr>\n",
              "  </thead>\n",
              "  <tbody>\n",
              "    <tr>\n",
              "      <th>0</th>\n",
              "      <td>자이언트</td>\n",
              "      <td>3900000</td>\n",
              "      <td>2021</td>\n",
              "      <td>디스크 브레이크</td>\n",
              "      <td>SHIMANO ULTEGRA</td>\n",
              "      <td>카본</td>\n",
              "    </tr>\n",
              "    <tr>\n",
              "      <th>1</th>\n",
              "      <td>첼로</td>\n",
              "      <td>250000</td>\n",
              "      <td>2014</td>\n",
              "      <td>림 브레이크</td>\n",
              "      <td>SHIMANO SORA</td>\n",
              "      <td>알루미늄</td>\n",
              "    </tr>\n",
              "    <tr>\n",
              "      <th>2</th>\n",
              "      <td>자이언트</td>\n",
              "      <td>600000</td>\n",
              "      <td>2021</td>\n",
              "      <td>림 브레이크</td>\n",
              "      <td>SHIMANO CLARIS</td>\n",
              "      <td>알루미늄</td>\n",
              "    </tr>\n",
              "    <tr>\n",
              "      <th>3</th>\n",
              "      <td>리들리</td>\n",
              "      <td>6500000</td>\n",
              "      <td>2017</td>\n",
              "      <td>림 브레이크</td>\n",
              "      <td>SHIMANO DURA-ACE</td>\n",
              "      <td>카본</td>\n",
              "    </tr>\n",
              "    <tr>\n",
              "      <th>4</th>\n",
              "      <td>트렉</td>\n",
              "      <td>6500000</td>\n",
              "      <td>2019</td>\n",
              "      <td>디스크 브레이크</td>\n",
              "      <td>SRAM RED</td>\n",
              "      <td>카본</td>\n",
              "    </tr>\n",
              "    <tr>\n",
              "      <th>...</th>\n",
              "      <td>...</td>\n",
              "      <td>...</td>\n",
              "      <td>...</td>\n",
              "      <td>...</td>\n",
              "      <td>...</td>\n",
              "      <td>...</td>\n",
              "    </tr>\n",
              "    <tr>\n",
              "      <th>1361</th>\n",
              "      <td>포커스</td>\n",
              "      <td>2524500</td>\n",
              "      <td>2018</td>\n",
              "      <td>림 브레이크</td>\n",
              "      <td>SHIMANO ULTEGRA</td>\n",
              "      <td>카본</td>\n",
              "    </tr>\n",
              "    <tr>\n",
              "      <th>1362</th>\n",
              "      <td>메리다</td>\n",
              "      <td>814000</td>\n",
              "      <td>2016</td>\n",
              "      <td>림 브레이크</td>\n",
              "      <td>SHIMANO 105</td>\n",
              "      <td>카본</td>\n",
              "    </tr>\n",
              "    <tr>\n",
              "      <th>1363</th>\n",
              "      <td>기타</td>\n",
              "      <td>600000</td>\n",
              "      <td>2015</td>\n",
              "      <td>림 브레이크</td>\n",
              "      <td>SHIMANO ULTEGRA</td>\n",
              "      <td>카본</td>\n",
              "    </tr>\n",
              "    <tr>\n",
              "      <th>1364</th>\n",
              "      <td>첼로</td>\n",
              "      <td>1050000</td>\n",
              "      <td>2018</td>\n",
              "      <td>림 브레이크</td>\n",
              "      <td>SHIMANO ULTEGRA</td>\n",
              "      <td>카본</td>\n",
              "    </tr>\n",
              "    <tr>\n",
              "      <th>1365</th>\n",
              "      <td>윌리어</td>\n",
              "      <td>850000</td>\n",
              "      <td>2015</td>\n",
              "      <td>림 브레이크</td>\n",
              "      <td>SHIMANO 105</td>\n",
              "      <td>카본</td>\n",
              "    </tr>\n",
              "  </tbody>\n",
              "</table>\n",
              "<p>1366 rows × 6 columns</p>\n",
              "</div>"
            ],
            "text/plain": [
              "      brand    price   old     brake        drivetrain material\n",
              "0     자이언트   3900000  2021  디스크 브레이크   SHIMANO ULTEGRA       카본\n",
              "1       첼로    250000  2014    림 브레이크      SHIMANO SORA     알루미늄\n",
              "2     자이언트    600000  2021    림 브레이크    SHIMANO CLARIS     알루미늄\n",
              "3      리들리   6500000  2017    림 브레이크  SHIMANO DURA-ACE       카본\n",
              "4       트렉   6500000  2019  디스크 브레이크          SRAM RED       카본\n",
              "...     ...      ...   ...       ...               ...      ...\n",
              "1361   포커스   2524500  2018    림 브레이크   SHIMANO ULTEGRA       카본\n",
              "1362   메리다    814000  2016    림 브레이크       SHIMANO 105       카본\n",
              "1363    기타    600000  2015    림 브레이크   SHIMANO ULTEGRA       카본\n",
              "1364    첼로   1050000  2018    림 브레이크   SHIMANO ULTEGRA       카본\n",
              "1365   윌리어    850000  2015    림 브레이크       SHIMANO 105       카본\n",
              "\n",
              "[1366 rows x 6 columns]"
            ]
          },
          "metadata": {},
          "execution_count": 51
        }
      ]
    },
    {
      "cell_type": "code",
      "source": [
        "# pandas profiling\n",
        "df_new.profile_report()"
      ],
      "metadata": {
        "id": "b13x2kA08wNY"
      },
      "execution_count": null,
      "outputs": []
    },
    {
      "cell_type": "markdown",
      "source": [
        "## 모델 구축"
      ],
      "metadata": {
        "id": "6cXzM1nfNBvQ"
      }
    },
    {
      "cell_type": "code",
      "source": [
        "# target, feature 구분\n",
        "target = 'price'\n",
        "feature = ['brand', 'old', 'brake', 'drivetrain', 'material']"
      ],
      "metadata": {
        "id": "sER1bz53FCKn"
      },
      "execution_count": null,
      "outputs": []
    },
    {
      "cell_type": "code",
      "source": [
        "# 다중선형 모델 훈련을 위해 train, test, validation 으로 나눔.\n",
        "from sklearn.model_selection import train_test_split\n",
        "train, test = train_test_split(df_new, test_size =.2, random_state=2)\n",
        "train, val = train_test_split(train, test_size =.2, random_state=2)\n",
        "len(train), len(val), len(test)"
      ],
      "metadata": {
        "colab": {
          "base_uri": "https://localhost:8080/"
        },
        "id": "7316tqS1FTBp",
        "outputId": "7c75591f-0f66-4d12-9a8e-778a812cf64e"
      },
      "execution_count": null,
      "outputs": [
        {
          "output_type": "execute_result",
          "data": {
            "text/plain": [
              "(905, 227, 283)"
            ]
          },
          "metadata": {},
          "execution_count": 177
        }
      ]
    },
    {
      "cell_type": "code",
      "source": [
        "X_train =train[feature]\n",
        "y_train = train[target]\n",
        "\n",
        "X_val = val[feature]\n",
        "y_val = val[target]\n",
        "\n",
        "X_test = test[feature]\n",
        "y_test = test[target]"
      ],
      "metadata": {
        "id": "eZiwbKZ3F7O3"
      },
      "execution_count": null,
      "outputs": []
    },
    {
      "cell_type": "code",
      "source": [
        "# 다중선형\n",
        "\n",
        "from category_encoders import OneHotEncoder\n",
        "from sklearn.linear_model import LinearRegression\n",
        "from sklearn.pipeline import make_pipeline\n",
        "from sklearn.metrics import r2_score\n",
        "\n",
        "pipe = make_pipeline(\n",
        "    OneHotEncoder(use_cat_names=True),\n",
        "    LinearRegression()\n",
        ")\n",
        "\n",
        "pipe.fit(X_train,y_train)\n",
        "\n",
        "y_pred = pipe.predict(X_val)\n",
        "val_result = r2_score(y_val, y_pred)\n",
        "\n",
        "y_pred_train = pipe.predict(X_train)\n",
        "train_result = r2_score(y_train, y_pred_train)\n",
        "\n",
        "print(f'''\n",
        "훈련 데이터 r2_score : {train_result}\n",
        "검증 데이터 r2_score : {val_result}\n",
        "''')"
      ],
      "metadata": {
        "colab": {
          "base_uri": "https://localhost:8080/"
        },
        "id": "pnsnq2eiExFb",
        "outputId": "a4529ec8-cf5e-437b-f2ee-3269e302fe2d"
      },
      "execution_count": null,
      "outputs": [
        {
          "output_type": "stream",
          "name": "stdout",
          "text": [
            "\n",
            "훈련 데이터 r2_score : 0.6981256445386761\n",
            "검증 데이터 r2_score : 0.6978251126766954\n",
            "\n"
          ]
        }
      ]
    },
    {
      "cell_type": "code",
      "source": [
        "# RandomizedSearchCV를 위해 train과 test로만 데이터 나눔.\n",
        "from sklearn.model_selection import train_test_split\n",
        "train, test = train_test_split(df_new, test_size=.2, random_state=2)"
      ],
      "metadata": {
        "id": "XQt2MTbjM8RT"
      },
      "execution_count": null,
      "outputs": []
    },
    {
      "cell_type": "code",
      "source": [
        "X_train = train[feature]\n",
        "y_train = train[target]\n",
        "\n",
        "X_test = test[feature]\n",
        "y_test = test[target]"
      ],
      "metadata": {
        "id": "JAwa2NrmNDLC"
      },
      "execution_count": null,
      "outputs": []
    },
    {
      "cell_type": "code",
      "source": [
        "# RandomForest\n",
        "\n",
        "from scipy.stats import randint, uniform\n",
        "from category_encoders import OrdinalEncoder\n",
        "from sklearn.ensemble import RandomForestRegressor\n",
        "from sklearn.model_selection import RandomizedSearchCV\n",
        "\n",
        "pipe = make_pipeline(\n",
        "    OrdinalEncoder(),\n",
        "    RandomForestRegressor(random_state=2)\n",
        ")\n",
        "\n",
        "dist = {\n",
        "    'randomforestregressor__n_estimators' : randint(50,200),\n",
        "    'randomforestregressor__max_depth' : randint(5,20),\n",
        "    'randomforestregressor__max_features' : uniform(0,1)\n",
        "}\n",
        "\n",
        "clf = RandomizedSearchCV(\n",
        "    pipe,\n",
        "    param_distributions = dist,\n",
        "    n_iter =50,\n",
        "    cv = 3,\n",
        "    scoring = 'r2',\n",
        "    verbose= 1,\n",
        "    n_jobs = -1,\n",
        "    random_state = 2\n",
        ")\n",
        "\n",
        "clf.fit(X_train,y_train);"
      ],
      "metadata": {
        "colab": {
          "base_uri": "https://localhost:8080/"
        },
        "id": "KJxBOIHpLiAZ",
        "outputId": "c4da38dc-25db-4b59-c221-09433768b2e7"
      },
      "execution_count": null,
      "outputs": [
        {
          "output_type": "stream",
          "name": "stdout",
          "text": [
            "Fitting 3 folds for each of 50 candidates, totalling 150 fits\n"
          ]
        }
      ]
    },
    {
      "cell_type": "code",
      "source": [
        "# RF best score\n",
        "clf.best_score_"
      ],
      "metadata": {
        "colab": {
          "base_uri": "https://localhost:8080/"
        },
        "id": "cstSv9vsOpaS",
        "outputId": "f5b011b1-54ed-4179-a457-d894645fdb99"
      },
      "execution_count": null,
      "outputs": [
        {
          "output_type": "execute_result",
          "data": {
            "text/plain": [
              "0.6848029477681962"
            ]
          },
          "metadata": {},
          "execution_count": 222
        }
      ]
    },
    {
      "cell_type": "code",
      "source": [
        "!pip install xgboost"
      ],
      "metadata": {
        "colab": {
          "base_uri": "https://localhost:8080/"
        },
        "id": "-vvtG7tdPC4I",
        "outputId": "9a6ba384-7403-412e-d8cf-18ba7909450d"
      },
      "execution_count": null,
      "outputs": [
        {
          "output_type": "stream",
          "name": "stdout",
          "text": [
            "Requirement already satisfied: xgboost in /usr/local/lib/python3.7/dist-packages (0.90)\n",
            "Requirement already satisfied: numpy in /usr/local/lib/python3.7/dist-packages (from xgboost) (1.19.5)\n",
            "Requirement already satisfied: scipy in /usr/local/lib/python3.7/dist-packages (from xgboost) (1.7.3)\n"
          ]
        }
      ]
    },
    {
      "cell_type": "code",
      "source": [
        "# XGB\n",
        "from scipy.stats import randint, uniform\n",
        "from sklearn.pipeline import make_pipeline\n",
        "from category_encoders import TargetEncoder\n",
        "from sklearn.model_selection import RandomizedSearchCV\n",
        "from xgboost import XGBRegressor\n",
        "\n",
        "pipe_2 = make_pipeline(\n",
        "    TargetEncoder(),\n",
        "    XGBRegressor(random_state=2)\n",
        ")\n",
        "\n",
        "dist_2 = {\n",
        "    'targetencoder__smoothing': [2.,20.,50.,60.,100.,500.,1000.],\n",
        "    'targetencoder__min_samples_leaf': randint(1, 10),\n",
        "    'xgbregressor__n_estimators' : randint(50,200),\n",
        "    'xgbregressor__max_depth' : randint(5,20),\n",
        "    'xgbregressor__learning_rate' : uniform(0,1)\n",
        "}\n",
        "\n",
        "clf_2 = RandomizedSearchCV(\n",
        "    pipe_2,\n",
        "    param_distributions = dist_2,\n",
        "    n_iter =50,\n",
        "    cv =3,\n",
        "    scoring = 'r2',\n",
        "    verbose =1,\n",
        "    n_jobs = -1,\n",
        "    random_state = 2\n",
        ")\n",
        "\n",
        "clf_2.fit(X_train,y_train);"
      ],
      "metadata": {
        "colab": {
          "base_uri": "https://localhost:8080/"
        },
        "id": "m69JDc7OPD6A",
        "outputId": "429f38d2-ff58-4ac0-a53d-52e83341486c"
      },
      "execution_count": null,
      "outputs": [
        {
          "output_type": "stream",
          "name": "stderr",
          "text": [
            "/usr/local/lib/python3.7/dist-packages/statsmodels/tools/_testing.py:19: FutureWarning: pandas.util.testing is deprecated. Use the functions in the public API at pandas.testing instead.\n",
            "  import pandas.util.testing as tm\n"
          ]
        },
        {
          "output_type": "stream",
          "name": "stdout",
          "text": [
            "Fitting 3 folds for each of 50 candidates, totalling 150 fits\n",
            "[14:53:21] WARNING: /workspace/src/objective/regression_obj.cu:152: reg:linear is now deprecated in favor of reg:squarederror.\n"
          ]
        }
      ]
    },
    {
      "cell_type": "code",
      "source": [
        "# XGB best score\n",
        "clf_2.best_score_"
      ],
      "metadata": {
        "colab": {
          "base_uri": "https://localhost:8080/"
        },
        "id": "0TLo5UIzPxb3",
        "outputId": "a074cac9-bc2b-4380-e2a9-d602e288b888"
      },
      "execution_count": null,
      "outputs": [
        {
          "output_type": "execute_result",
          "data": {
            "text/plain": [
              "0.7148223717692842"
            ]
          },
          "metadata": {},
          "execution_count": 58
        }
      ]
    },
    {
      "cell_type": "code",
      "source": [
        "clf_2.best_params_"
      ],
      "metadata": {
        "colab": {
          "base_uri": "https://localhost:8080/"
        },
        "id": "cfW-Yry6Yww5",
        "outputId": "dcc355aa-f61d-4ff4-e3ac-2dc7ce68d0c9"
      },
      "execution_count": null,
      "outputs": [
        {
          "output_type": "execute_result",
          "data": {
            "text/plain": [
              "{'xgbregressor__learning_rate': 0.2172699264401201,\n",
              " 'xgbregressor__max_depth': 5,\n",
              " 'xgbregressor__n_estimators': 76}"
            ]
          },
          "metadata": {},
          "execution_count": 225
        }
      ]
    },
    {
      "cell_type": "markdown",
      "source": [
        "score가 가장 높은 **XGBRegressor** 최종 모델로 선택."
      ],
      "metadata": {
        "id": "21JIR2qvPPoq"
      }
    },
    {
      "cell_type": "code",
      "source": [
        "# 전처리 된 데이터 csv 파일로 내보내기.\n",
        "df_new.to_csv('bicycle.csv', index=False)"
      ],
      "metadata": {
        "id": "t9lT9ka4SMwg"
      },
      "execution_count": null,
      "outputs": []
    }
  ]
}